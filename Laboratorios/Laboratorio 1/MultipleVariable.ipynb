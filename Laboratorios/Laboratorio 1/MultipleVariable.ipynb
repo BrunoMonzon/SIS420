{
 "cells": [
  {
   "cell_type": "code",
   "execution_count": 1,
   "id": "126b199b-f79b-4e56-86c7-78425dc55857",
   "metadata": {},
   "outputs": [],
   "source": [
    "#LABORATORIO 1"
   ]
  },
  {
   "cell_type": "markdown",
   "id": "97e8fe7c-13bd-44fa-bfda-8a9a37d7b3bb",
   "metadata": {},
   "source": [
    "# 1. Importación de Librerías para Análisis y Visualización"
   ]
  },
  {
   "cell_type": "code",
   "execution_count": 1,
   "id": "360660e0-89fb-4538-bd13-279b1ebc8989",
   "metadata": {},
   "outputs": [],
   "source": [
    "# Utilizado para manejos de directorios y rutas\n",
    "import os\n",
    "\n",
    "# Computación vectorial y científica para Python\n",
    "import numpy as np #sirve para manipular multiplicar arreglos y vectores\n",
    "import pandas as pd #sirve para leer los archivos csv\n",
    "\n",
    "# Librerías para graficación (trazado de gráficos)\n",
    "from matplotlib import pyplot\n",
    "from mpl_toolkits.mplot3d import Axes3D  # Necesario para graficar superficies 3D\n",
    "\n",
    "# Permite que las gráficas de Matplotlib se muestren dentro del cuaderno de Jupyter\n",
    "%matplotlib inline\n",
    "#regresion es un problema de prediccion que busca predecir una variable continua(numerica)"
   ]
  },
  {
   "cell_type": "markdown",
   "id": "9df18f12-5e38-4eb7-8f31-3ce137921423",
   "metadata": {},
   "source": [
    "# 2. Carga de Datos desde un Archivo CSV"
   ]
  },
  {
   "cell_type": "code",
   "execution_count": 2,
   "id": "ddbe7fb6-2e78-48fb-ab22-f956ff7363bb",
   "metadata": {},
   "outputs": [],
   "source": [
    "# Ruta del archivo CSV que contiene el conjunto de datos\n",
    "dataset_path = \"nba.csv\"\n",
    "\n",
    "# Carga los datos del archivo CSV en un DataFrame de pandas\n",
    "data = pd.read_csv(dataset_path)#organizamos los datos en filas y columnas "
   ]
  },
  {
   "cell_type": "markdown",
   "id": "b23698a3-7f95-46e9-b74d-278eb5b58316",
   "metadata": {},
   "source": [
    "# 3. Selección y Visualización de Características del Conjunto de Datos"
   ]
  },
  {
   "cell_type": "code",
   "execution_count": 3,
   "id": "01ca18ec-4bf8-4ce9-846b-f2fac354864e",
   "metadata": {},
   "outputs": [
    {
     "name": "stdout",
     "output_type": "stream",
     "text": [
      "Número de ejemplos de entrenamiento: 12844\n",
      "     age  height  weight      gpnet_rating  oreb_pct   usg_pct    ts_pct   ast_pct       pts\n",
      "------------------------------------------------------------------------------------------\n",
      "      22     193      95      64      0.30      0.04      0.17      0.49      0.25      3.90\n",
      "      28     190      86       4      8.90      0.03      0.17      0.50      0.04      3.80\n",
      "      26     203     103      41     -8.20      0.11      0.17      0.51      0.12      8.30\n",
      "      30     203     102      64     -2.70      0.03      0.21      0.53      0.12     10.20\n",
      "      23     213     120      52    -14.10      0.10      0.20      0.50      0.06      2.80\n",
      "      33     198     102      80     -5.80      0.03      0.20      0.50      0.14     10.60\n",
      "      26     231     137      73      6.90      0.10      0.18      0.62      0.02     10.60\n",
      "      30     203     100      79      3.20      0.03      0.27      0.60      0.09     26.80\n",
      "      24     201     107      80     -2.90      0.05      0.28      0.53      0.15     21.10\n",
      "      24     203     102      80      6.90      0.05      0.28      0.56      0.36     21.40\n"
     ]
    }
   ],
   "source": [
    "# Selección de características del conjunto de datos y conversión a un array de numpy\n",
    "X = data[[\"age\", \"player_height\", \"player_weight\", \"gp\", \"net_rating\",\n",
    "          \"oreb_pct\", \"usg_pct\", \"ts_pct\", \"ast_pct\"]].values  # Convertir a numpy\n",
    "y = data[\"pts\"].values  # Variable objetivo (puntos anotados)\n",
    "\n",
    "# Número de ejemplos en el conjunto de datos\n",
    "m = y.size #para calcular el numero de ejemplos  \n",
    "\n",
    "# Imprimir algunos puntos de datos para inspección, para hacer un control\n",
    "print(f\"Número de ejemplos de entrenamiento: {m}\")\n",
    "print('{:>8s}{:>8s}{:>8s}{:>8s}{:>10s}{:>10s}{:>10s}{:>10s}{:>10s}{:>10s}'.format(\n",
    "    'age', 'height', 'weight', 'gp', 'net_rating', 'oreb_pct', 'usg_pct', 'ts_pct', 'ast_pct', 'pts'))\n",
    "print('-' * 90)\n",
    "\n",
    "# Mostrar hasta 10 ejemplos del conjunto de datos\n",
    "for i in range(min(10, m)):  \n",
    "    print('{:8.0f}{:8.0f}{:8.0f}{:8.0f}{:10.2f}{:10.2f}{:10.2f}{:10.2f}{:10.2f}{:10.2f}'.format(\n",
    "        X[i, 0], X[i, 1], X[i, 2], X[i, 3], X[i, 4], X[i, 5], X[i, 6], X[i, 7], X[i, 8], y[i]\n",
    "    ))"
   ]
  },
  {
   "cell_type": "markdown",
   "id": "c508e9cc-50ef-4537-86bb-70411f06fb55",
   "metadata": {},
   "source": [
    "# 4. Normalización de Características"
   ]
  },
  {
   "cell_type": "code",
   "execution_count": 4,
   "id": "1415fcc5-1237-4700-8a36-d9dcbb6d320e",
   "metadata": {},
   "outputs": [],
   "source": [
    "def featureNormalize(X):\n",
    "    \n",
    "    # Normaliza las características restando la media y dividiendo por la desviación estándar\n",
    "    \n",
    "    X_norm = X.copy()#se hace una copia de x, evita modificar x original\n",
    "    \n",
    "    mu = np.mean(X, axis=0)  # Calcula la media (promedio) de cada columna (característica) de X\n",
    "    \n",
    "    sigma = np.std(X, axis=0) # saca la desviacion estandar(varianza) de cada columna en base a la media\n",
    "    \n",
    "    X_norm = (X - mu) / sigma  # Aplicar normalización(formula)\n",
    "\n",
    "    return X_norm, mu, sigma  # Retorna datos normalizados, media y desviación estándar\n",
    "    #Evita que características con valores grandes dominen a otras más pequeñas\n"
   ]
  },
  {
   "cell_type": "markdown",
   "id": "ba950100-3cf7-4a99-9d22-ff6a7d338442",
   "metadata": {},
   "source": [
    "# 5. Aplicación de la Normalización de Características"
   ]
  },
  {
   "cell_type": "code",
   "execution_count": 5,
   "id": "980458ca-7944-460f-ad61-001f64c2a36c",
   "metadata": {},
   "outputs": [
    {
     "name": "stdout",
     "output_type": "stream",
     "text": [
      "[[2.20000000e+01 1.93040000e+02 9.48007280e+01 ... 1.69000000e-01\n",
      "  4.87000000e-01 2.48000000e-01]\n",
      " [2.80000000e+01 1.90500000e+02 8.61824800e+01 ... 1.74000000e-01\n",
      "  4.97000000e-01 4.30000000e-02]\n",
      " [2.60000000e+01 2.03200000e+02 1.03418976e+02 ... 1.75000000e-01\n",
      "  5.12000000e-01 1.25000000e-01]\n",
      " ...\n",
      " [2.50000000e+01 2.05740000e+02 1.02511792e+02 ... 1.68000000e-01\n",
      "  5.93000000e-01 5.20000000e-02]\n",
      " [2.40000000e+01 2.08280000e+02 1.13398000e+02 ... 7.40000000e-02\n",
      "  7.80000000e-01 4.40000000e-02]\n",
      " [3.30000000e+01 2.05740000e+02 1.02965384e+02 ... 1.69000000e-01\n",
      "  6.50000000e-01 9.40000000e-02]]\n",
      "Media calculada: [ 2.70453130e+01  2.00555097e+02  1.00263279e+02  5.11541576e+01\n",
      " -2.22633915e+00  5.40731081e-02  1.84640766e-01  5.13138353e-01\n",
      "  1.31595142e-01]\n",
      "Desviación estandar calculada: [ 4.33904176  9.11073552 12.42614432 25.08392759 12.66463109  0.04333306\n",
      "  0.0535428   0.10172031  0.09416814]\n",
      "[[-1.16277124 -0.82486167 -0.43960146 ... -0.29211708 -0.25696296\n",
      "   1.23613849]\n",
      " [ 0.22002255 -1.10365365 -1.13315916 ... -0.19873384 -0.15865418\n",
      "  -0.94081867]\n",
      " [-0.24090872  0.29030625  0.25395623 ... -0.1800572  -0.01119101\n",
      "  -0.07003581]\n",
      " ...\n",
      " [-0.47137435  0.56909823  0.18095016 ... -0.31079373  0.78511014\n",
      "  -0.84524494]\n",
      " [-0.70183998  0.84789021  1.05702304 ... -2.06639865  2.6234844\n",
      "  -0.93019937]\n",
      " [ 1.3723507   0.56909823  0.2174532  ... -0.29211708  1.34547021\n",
      "  -0.39923421]]\n"
     ]
    }
   ],
   "source": [
    "# llama featureNormalize con los datos cargados\n",
    "X_norm, mu, sigma = featureNormalize(X)\n",
    "\n",
    "print(X)\n",
    "print('Media calculada:', mu)\n",
    "print('Desviación estandar calculada:', sigma)\n",
    "print(X_norm)"
   ]
  },
  {
   "cell_type": "markdown",
   "id": "952a629b-024c-4307-b74e-e629b542d867",
   "metadata": {},
   "source": [
    "# 6. Adición del Término de Intersección"
   ]
  },
  {
   "cell_type": "code",
   "execution_count": 6,
   "id": "51eccede-c3bc-45fc-9c38-ae0a254f6ade",
   "metadata": {},
   "outputs": [],
   "source": [
    "# Añade el termino de interseccion(sesgo) a X\n",
    "# (Columna de unos para X0), m representa el numero de ejemplos, se concatena a las x_norm\n",
    "X = np.concatenate([np.ones((m, 1)), X_norm], axis=1)"
   ]
  },
  {
   "cell_type": "code",
   "execution_count": 7,
   "id": "6f4ce4d3-c803-435a-b59d-9d6a44f2ecb3",
   "metadata": {},
   "outputs": [
    {
     "name": "stdout",
     "output_type": "stream",
     "text": [
      "[[ 1.         -1.16277124 -0.82486167 ... -0.29211708 -0.25696296\n",
      "   1.23613849]\n",
      " [ 1.          0.22002255 -1.10365365 ... -0.19873384 -0.15865418\n",
      "  -0.94081867]\n",
      " [ 1.         -0.24090872  0.29030625 ... -0.1800572  -0.01119101\n",
      "  -0.07003581]\n",
      " ...\n",
      " [ 1.         -0.47137435  0.56909823 ... -0.31079373  0.78511014\n",
      "  -0.84524494]\n",
      " [ 1.         -0.70183998  0.84789021 ... -2.06639865  2.6234844\n",
      "  -0.93019937]\n",
      " [ 1.          1.3723507   0.56909823 ... -0.29211708  1.34547021\n",
      "  -0.39923421]]\n"
     ]
    }
   ],
   "source": [
    "print(X)"
   ]
  },
  {
   "cell_type": "markdown",
   "id": "59623ec8-ffc2-4e22-94c0-871e2aefa65a",
   "metadata": {},
   "source": [
    "# 7. Cálculo de la Función de Costo para Múltiples Variables"
   ]
  },
  {
   "cell_type": "code",
   "execution_count": 8,
   "id": "2e779110-971c-4535-9aa5-88003e27a713",
   "metadata": {},
   "outputs": [],
   "source": [
    "def computeCostMulti(X, y, theta):#definimos la funcion para calcular el costo\n",
    "    # Inicializa algunos valores utiles\n",
    "    m = y.shape[0] # creamos una variable local que almacena el num de ejem de entrenamiento\n",
    "\n",
    "    J = 0 #inicializamos la fun de costo en cero \n",
    "\n",
    "    # h = np.dot(X, theta)\n",
    "\n",
    "    J = (1/(2 * m)) * np.sum(np.square(np.dot (X,theta) - y))#aqui aplicamos la hipotesis\n",
    "\n",
    "    return J\n"
   ]
  },
  {
   "cell_type": "markdown",
   "id": "9d14fe4f-fb7f-475a-a8e6-a5280b2a96ed",
   "metadata": {},
   "source": [
    "# 8. Implementación del Descenso por el Gradiente para Múltiples Variables"
   ]
  },
  {
   "cell_type": "code",
   "execution_count": 9,
   "id": "b14148b2-808a-4669-a6da-c37e2be115f0",
   "metadata": {
    "scrolled": true
   },
   "outputs": [],
   "source": [
    "def gradientDescentMulti(X, y, theta, alpha, num_iters):#funcion del descenso\n",
    "\n",
    "    # Inicializa algunos valores\n",
    "    m = y.shape[0] # numero de ejemplos de entrenamiento\n",
    "\n",
    "    # realiza una copia de theta, el cual será acutalizada por el descenso por el gradiente\n",
    "\n",
    "    theta = theta.copy()\n",
    "\n",
    "    J_history = [] #inicializamos un arreglo vacio para almacenar el historial de la funcion de costo\n",
    "\n",
    "    for i in range(num_iters):\n",
    "        theta = theta - (alpha / m) * (np.dot(X, theta) - y).dot(X)#calculamos tetha con form descenso por el gradiente \n",
    "        J_history.append(computeCostMulti(X, y, theta))#CALCULAMOS LA FUN DE COSTO con la nueva tetha y almacenamos en j_h\n",
    "\n",
    "    return theta, J_history"
   ]
  },
  {
   "cell_type": "markdown",
   "id": "069b46c9-8c4b-48f9-aebe-9310d3f40f75",
   "metadata": {},
   "source": [
    "# 9. Ejecución del entrenamiento con Descenso por Gradiente y Predicción"
   ]
  },
  {
   "cell_type": "code",
   "execution_count": 10,
   "id": "d157772a-efce-46c0-adee-599a789133c1",
   "metadata": {},
   "outputs": [
    {
     "name": "stdout",
     "output_type": "stream",
     "text": [
      "Theta calculado por el descenso por gradiente: [ 8.06246381  0.11461654  0.42606944  0.36594549  2.16135324  0.34950242\n",
      " -0.53339592  3.08870355  0.95352352  0.89304697]\n",
      "Puntos esperados para el jugador ingresado: 16.59\n"
     ]
    },
    {
     "data": {
      "image/png": "[encoded data removed]",
      "text/plain": [
       "<Figure size 640x480 with 1 Axes>"
      ]
     },
     "metadata": {},
     "output_type": "display_data"
    }
   ],
   "source": [
    "# Definir la tasa de aprendizaje y el número de iteraciones para el descenso por gradiente\n",
    "#si es muy grande toma muy en cuenta cualquier error de las iteraciones y modifica mucho el resultado\n",
    "#si es muy pequenio tarda mucho en aprender hay que equilibrar \n",
    "alpha = 0.001  # Se pueden probar diferentes valores, por ejemplo, alpha = 0.003\n",
    "num_iters = 4000  \n",
    "\n",
    "# Inicializar theta con ceros (9 variables predictoras + 1 término de sesgo)\n",
    "theta = np.zeros(10)\n",
    "\n",
    "# Ejecutar el descenso por gradiente para minimizar la función de costo\n",
    "theta, J_history = gradientDescentMulti(X, y, theta, alpha, num_iters)#pasamos a las variables los valores para que nos devuelva theta y j history\n",
    "\n",
    "# Graficar la convergencia del costo durante las iteraciones\n",
    "pyplot.plot(np.arange(len(J_history)), J_history, lw=2)\n",
    "pyplot.xlabel('Número de iteraciones')\n",
    "pyplot.ylabel('Costo J')\n",
    "\n",
    "# Imprimir los valores óptimos de theta encontrados\n",
    "print('Theta calculado por el descenso por gradiente:', theta)\n",
    "\n",
    "# Ejemplo de predicción: estimar puntos anotados por un jugador con características dadas\n",
    "#le mandamos unos valores para realizar una prediccion incluyendo el termino de sesgo(1)\n",
    "X_array = np.array([1, 34.0, 190.5, 82.0, 70, 5.1, 0.030, 0.250, 0.590, 0.420])  # Incluye el sesgo\n",
    "\n",
    "# Normalizar características (excepto el término de sesgo)\n",
    "X_array[1:] = (X_array[1:] - mu) / sigma  \n",
    "\n",
    "# Calcular la predicción usando el modelo entrenado\n",
    "prediccion_pts = np.dot(X_array, theta)#con dot multiplicamos matrices  \n",
    "\n",
    "# Mostrar la predicción de puntos para el jugador ingresado\n",
    "print('Puntos esperados para el jugador ingresado: {:.2f}'.format(prediccion_pts))\n",
    "\n",
    "#en esta grafica podemos ver como se entrena el modelo, disminuyendo el error de la fun de costo"
   ]
  },
  {
   "cell_type": "markdown",
   "id": "1bef71e9-5086-4efb-8204-fd6e74c65453",
   "metadata": {},
   "source": [
    "# 10. Predicción de Puntos para un Jugador Específico"
   ]
  },
  {
   "cell_type": "code",
   "execution_count": 11,
   "id": "e6129b2a-53a8-4274-aea7-eb3f5361a371",
   "metadata": {},
   "outputs": [
    {
     "name": "stdout",
     "output_type": "stream",
     "text": [
      "Puntos esperados para el jugador ingresado: 12.68\n"
     ]
    }
   ],
   "source": [
    "# Estimar los puntos esperados para un jugador de 25 años, 198 cm de altura, 95 kg de peso,\n",
    "# 65 partidos jugados, net rating de 5.4, 9.3% de rebotes ofensivos, 23.5% de uso,\n",
    "# 58.1% de true shooting y 18.2% de asistencias.\n",
    "X_array = np.array([1,25, 198, 95, 65, 5.4, 0.093, 0.235, 0.581, 0.182])  \n",
    "X_array[1:] = (X_array[1:] - mu) / sigma   \n",
    "prediccion_pts = np.dot(X_array, theta)  \n",
    "print('Puntos esperados para el jugador ingresado: {:.2f}'.format(prediccion_pts))"
   ]
  },
  {
   "cell_type": "code",
   "execution_count": 12,
   "id": "e0a02cbd-6ad3-4336-b4e4-b9dcd2360f71",
   "metadata": {},
   "outputs": [
    {
     "name": "stdout",
     "output_type": "stream",
     "text": [
      "Puntos esperados para el jugador ingresado: 9.40\n"
     ]
    }
   ],
   "source": [
    "# Estimar los puntos esperados para un jugador de 24 años, 192 cm de altura, 88 kg de peso,\n",
    "# 60 partidos jugados, net rating de 2.9, 8.1% de rebotes ofensivos, 20.5% de uso,\n",
    "# 54.3% de true shooting y 14.8% de asistencias.\n",
    "X_array = np.array([1,24, 192, 88, 60, 2.9, 0.081, 0.205, 0.543, 0.148])  \n",
    "X_array[1:] = (X_array[1:] - mu) / sigma   \n",
    "prediccion_pts = np.dot(X_array, theta)   \n",
    "print('Puntos esperados para el jugador ingresado: {:.2f}'.format(prediccion_pts))"
   ]
  },
  {
   "cell_type": "code",
   "execution_count": 13,
   "id": "2e1fb8c9-a485-4a26-9503-7e51a93aaac0",
   "metadata": {},
   "outputs": [
    {
     "name": "stdout",
     "output_type": "stream",
     "text": [
      "Puntos esperados para el jugador ingresado: 13.51\n"
     ]
    }
   ],
   "source": [
    "# Estimar los puntos esperados para un jugador de 32 años, 206 cm de altura, 102 kg de peso,\n",
    "# 80 partidos jugados, net rating de 4.8, 10.2% de rebotes ofensivos, 21.7% de uso,\n",
    "# 57.8% de true shooting y 17.9% de asistencias.\n",
    "X_array = np.array([1,32, 206, 102, 80, 4.8, 0.102, 0.217, 0.578, 0.179])  \n",
    "X_array[1:] = (X_array[1:] - mu) / sigma   \n",
    "prediccion_pts = np.dot(X_array, theta)  \n",
    "print('Puntos esperados para el jugador ingresado: {:.2f}'.format(prediccion_pts))"
   ]
  },
  {
   "cell_type": "markdown",
   "id": "bebb635f-acf2-431f-a911-755a2209ab74",
   "metadata": {},
   "source": [
    "# 11. Evaluación del Modelo de Regresión: Análisis de Errores"
   ]
  },
  {
   "cell_type": "code",
   "execution_count": 14,
   "id": "a3281bef-adb6-4367-8d52-477faaad1c0e",
   "metadata": {},
   "outputs": [
    {
     "data": {
      "image/png": "[encoded data removed]",
      "text/plain": [
       "<Figure size 640x480 with 1 Axes>"
      ]
     },
     "metadata": {},
     "output_type": "display_data"
    }
   ],
   "source": [
    "import matplotlib.pyplot as plt\n",
    "\n",
    "y_pred = np.dot(X, theta)\n",
    "# Graficar el histograma de los errores de predicción para analizar la distribución de los residuos\n",
    "errores = y - y_pred  \n",
    "plt.hist(errores, bins=30, edgecolor='black') \n",
    "plt.xlabel('Error de Predicción')  \n",
    "plt.ylabel('Frecuencia')  \n",
    "plt.title('Histograma de Errores (Residuos)')  \n",
    "plt.show()\n"
   ]
  },
  {
   "cell_type": "code",
   "execution_count": 15,
   "id": "48812a4c-ebe3-46e7-8345-7f2c6b708866",
   "metadata": {},
   "outputs": [
    {
     "name": "stdout",
     "output_type": "stream",
     "text": [
      "Máximo de puntos anotados por un jugador: 36.1\n"
     ]
    }
   ],
   "source": [
    "max_puntos = data[\"pts\"].max()#calculamos el maximo de calculos anotados\n",
    "print(\"Máximo de puntos anotados por un jugador:\", max_puntos)"
   ]
  },
  {
   "cell_type": "code",
   "execution_count": 16,
   "id": "e8d838ff-83a7-445a-864e-9dd667e3f8b2",
   "metadata": {},
   "outputs": [
    {
     "name": "stdout",
     "output_type": "stream",
     "text": [
      "C:\\Users\\Bruno\\AppData\\Local\\Programs\\Python\\Python310\\python.exe\n"
     ]
    }
   ],
   "source": [
    "import sys\n",
    "print(sys.executable)"
   ]
  },
  {
   "cell_type": "code",
   "execution_count": 17,
   "id": "ab73c75b-8614-46cc-9c94-93f42da2668f",
   "metadata": {},
   "outputs": [
    {
     "name": "stdout",
     "output_type": "stream",
     "text": [
      "Error Absoluto Medio (MAE): 2.674276522346509\n"
     ]
    }
   ],
   "source": [
    "from sklearn.metrics import mean_absolute_error\n",
    "\n",
    "# Calcula el Error Absoluto Medio (MAE), que mide la magnitud promedio de los errores entre los valores reales (y) y los predichos (y_pred),\n",
    "# sin tener en cuenta la dirección del error (es decir, sin importar si la predicción fue mayor o menor que el valor real).\n",
    "mae = mean_absolute_error(y, y_pred)\n",
    "print(\"Error Absoluto Medio (MAE):\", mae)"
   ]
  },
  {
   "cell_type": "code",
   "execution_count": 18,
   "id": "e3a1258d-76a5-423b-afa9-9277958596a3",
   "metadata": {
    "jp-MarkdownHeadingCollapsed": true
   },
   "outputs": [],
   "source": [
    "# Extra [(2.67*100)/36.1] = 7.4\n",
    "# 100 - 7.4 = 92.6% de precisión"
   ]
  },
  {
   "cell_type": "markdown",
   "id": "e7497baf-40ec-4664-9c82-6f63c90b6ca8",
   "metadata": {},
   "source": [
    "# 12. Ecuación de la Normal"
   ]
  },
  {
   "cell_type": "code",
   "execution_count": 19,
   "id": "3ca43c0e-519f-48af-a71f-0c880aafc7b0",
   "metadata": {},
   "outputs": [],
   "source": [
    "# Leer el archivo CSV\n",
    "dataset_path = \"nba.csv\"\n",
    "data = pd.read_csv(dataset_path)\n",
    "\n",
    "# Seleccionar características y convertir a numpy\n",
    "X = data[[\"age\", \"player_height\", \"player_weight\", \"gp\", \"net_rating\",\n",
    "          \"oreb_pct\", \"usg_pct\", \"ts_pct\", \"ast_pct\"]].values  # Convertir a numpy\n",
    "y = data[\"pts\"].values  # Variable objetivo (puntos anotados)\n",
    "m = y.size  \n",
    "X = np.concatenate([np.ones((m, 1)), X], axis=1)"
   ]
  },
  {
   "cell_type": "markdown",
   "id": "c36a9034-6bfd-480e-b447-642b8c466e24",
   "metadata": {},
   "source": [
    "# 13. Función para Calcular los Parámetros de Regresión Lineal Usando la Ecuación Normal"
   ]
  },
  {
   "cell_type": "code",
   "execution_count": 20,
   "id": "f7d928ff-f8cf-4403-aace-f9413ad1a343",
   "metadata": {},
   "outputs": [],
   "source": [
    "def normalEqn(X, y):\n",
    "\n",
    "    theta = np.zeros(X.shape[1])#inicializamos tetha con zeros, shape cantidad de variables predictoras \n",
    "\n",
    "    theta = np.dot(np.dot(np.linalg.inv(np.dot(X.T,X)),X.T),y)#utilizamos la formula dada en las diapositivas\n",
    "\n",
    "    return theta"
   ]
  },
  {
   "cell_type": "markdown",
   "id": "09c0206c-f414-422f-a059-328cf251face",
   "metadata": {},
   "source": [
    "# 14.  Predicción de Puntos para un Jugador Específico"
   ]
  },
  {
   "cell_type": "code",
   "execution_count": 21,
   "id": "ea2485a0-4dfe-41ff-a596-0abd3f27e2f7",
   "metadata": {},
   "outputs": [
    {
     "name": "stdout",
     "output_type": "stream",
     "text": [
      "Theta calculado a partir de la ecuación de la normal: [-2.76604239e+01  3.27839682e-02  6.22414094e-02  2.19282457e-02\n",
      "  8.78476362e-02  2.75448800e-02 -1.40890397e+01  5.90991114e+01\n",
      "  8.85808608e+00  8.94246536e+00]\n",
      "Puntos esperados para el jugador ingresado (usando la ecuación de la normal): 16.73\n"
     ]
    }
   ],
   "source": [
    "# Calcular los parámetros con la ecuación de la normal\n",
    "theta = normalEqn(X, y)\n",
    "\n",
    "# Muestra los resultados optenidos a partir de la aplicación de la ecuación de la normal\n",
    "print('Theta calculado a partir de la ecuación de la normal: {:s}'.format(str(theta)));#convierte el vector tetha a una cadena de texto\n",
    "\n",
    "# Datos de ejemplo: Estimar los puntos de un jugador con características específicas\n",
    "X_array = [1,34.0, 190.5, 82.0, 70, 5.1, 0.030, 0.250, 0.590, 0.420]\n",
    "\n",
    "puntos = np.dot(X_array, theta)#multiplica la nueva x con tetha\n",
    "\n",
    "print('Puntos esperados para el jugador ingresado (usando la ecuación de la normal): {:.2f}'.format(puntos))\n"
   ]
  },
  {
   "cell_type": "code",
   "execution_count": 22,
   "id": "99ffcc71-94a5-44d3-9ebd-0313b8c97304",
   "metadata": {},
   "outputs": [
    {
     "name": "stdout",
     "output_type": "stream",
     "text": [
      "Puntos esperados para el jugador ingresado (usando la ecuación de la normal): 12.78\n"
     ]
    }
   ],
   "source": [
    "# Estimar los puntos esperados para un jugador de 25 años, 198 cm de altura, 95 kg de peso,\n",
    "# 65 partidos jugados, net rating de 5.4, 9.3% de rebotes ofensivos, 23.5% de uso,\n",
    "# 58.1% de true shooting y 18.2% de asistencias.\n",
    "X_array = [1,25, 198, 95, 65, 5.4, 0.093, 0.235, 0.581, 0.182]\n",
    "price = np.dot(X_array, theta)\n",
    "print('Puntos esperados para el jugador ingresado (usando la ecuación de la normal): {:.2f}'.format(price))"
   ]
  },
  {
   "cell_type": "code",
   "execution_count": 23,
   "id": "1e408106-b546-40f9-a5f6-49982eb548b2",
   "metadata": {},
   "outputs": [
    {
     "name": "stdout",
     "output_type": "stream",
     "text": [
      "Puntos esperados para el jugador ingresado (usando la ecuación de la normal): 9.46\n"
     ]
    }
   ],
   "source": [
    "# Estimar los puntos esperados para un jugador de 24 años, 192 cm de altura, 88 kg de peso,\n",
    "# 60 partidos jugados, net rating de 2.9, 8.1% de rebotes ofensivos, 20.5% de uso,\n",
    "# 54.3% de true shooting y 14.8% de asistencias.\n",
    "X_array = [1,24, 192, 88, 60, 2.9, 0.081, 0.205, 0.543, 0.148]\n",
    "price = np.dot(X_array, theta)\n",
    "print('Puntos esperados para el jugador ingresado (usando la ecuación de la normal): {:.2f}'.format(price))"
   ]
  },
  {
   "cell_type": "code",
   "execution_count": 24,
   "id": "dc52e55c-60d1-41a9-983f-23ae19e8ab3b",
   "metadata": {},
   "outputs": [
    {
     "name": "stdout",
     "output_type": "stream",
     "text": [
      "Puntos esperados para el jugador ingresado (usando la ecuación de la normal): 13.72\n"
     ]
    }
   ],
   "source": [
    "# Estimar los puntos esperados para un jugador de 32 años, 206 cm de altura, 102 kg de peso,\n",
    "# 80 partidos jugados, net rating de 4.8, 10.2% de rebotes ofensivos, 21.7% de uso,\n",
    "# 57.8% de true shooting y 17.9% de asistencias.\n",
    "X_array = [1,32, 206, 102, 80, 4.8, 0.102, 0.217, 0.578, 0.179]\n",
    "price = np.dot(X_array, theta)\n",
    "print('Puntos esperados para el jugador ingresado (usando la ecuación de la normal): {:.2f}'.format(price))"
   ]
  }
 ],
 "metadata": {
  "kernelspec": {
   "display_name": "Python 3 (ipykernel)",
   "language": "python",
   "name": "python3"
  },
  "language_info": {
   "codemirror_mode": {
    "name": "ipython",
    "version": 3
   },
   "file_extension": ".py",
   "mimetype": "text/x-python",
   "name": "python",
   "nbconvert_exporter": "python",
   "pygments_lexer": "ipython3",
   "version": "3.10.0"
  }
 },
 "nbformat": 4,
 "nbformat_minor": 5
}
